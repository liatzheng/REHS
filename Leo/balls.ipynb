{
 "cells": [
  {
   "cell_type": "code",
   "execution_count": 11,
   "metadata": {},
   "outputs": [],
   "source": [
    "import os\n",
    "import pandas as pd\n",
    "import numpy as np\n",
    "\n",
    "train_path = \"balls/train\"\n",
    "test_path = \"balls/test\"\n",
    "val_path = \"balls/valid\""
   ]
  },
  {
   "cell_type": "code",
   "execution_count": 12,
   "metadata": {},
   "outputs": [],
   "source": [
    "df = pd.read_csv(\"balls/balls.csv\")"
   ]
  },
  {
   "cell_type": "code",
   "execution_count": 13,
   "metadata": {},
   "outputs": [
    {
     "data": {
      "text/plain": [
       "3100"
      ]
     },
     "execution_count": 13,
     "metadata": {},
     "output_type": "execute_result"
    }
   ],
   "source": [
    "len(df)"
   ]
  },
  {
   "cell_type": "code",
   "execution_count": 14,
   "metadata": {},
   "outputs": [
    {
     "name": "stdout",
     "output_type": "stream",
     "text": [
      "Train 2860\n",
      "Test 120\n",
      "Val 120\n"
     ]
    }
   ],
   "source": [
    "ct = df['data set'].value_counts()\n",
    "print(\"Train \" +str(ct[0]))\n",
    "print(\"Test \" + str(ct[1]))\n",
    "print(\"Val \" + str(ct[2]))"
   ]
  },
  {
   "cell_type": "code",
   "execution_count": 15,
   "metadata": {},
   "outputs": [
    {
     "name": "stdout",
     "output_type": "stream",
     "text": [
      "Found 2860 images belonging to 24 classes.\n",
      "Found 120 images belonging to 24 classes.\n",
      "Found 120 images belonging to 24 classes.\n"
     ]
    }
   ],
   "source": [
    "import tensorflow as tf\n",
    "from tensorflow.keras.preprocessing.image import ImageDataGenerator\n",
    "\n",
    "train_imdatagen = ImageDataGenerator(rescale = 1./255., rotation_range=45, shear_range = 0.3, zoom_range = 0.2, horizontal_flip = True)\n",
    "test_imdatagen = ImageDataGenerator(rescale = 1./255.)\n",
    "val_imdatagen = ImageDataGenerator(rescale = 1./255.)\n",
    "\n",
    "train_gen = train_imdatagen.flow_from_directory(train_path, batch_size = 20, class_mode='categorical', target_size = (220, 220))\n",
    "test_gen = test_imdatagen.flow_from_directory(test_path, batch_size = 20, class_mode='categorical', target_size = (220, 220))\n",
    "val_gen = val_imdatagen.flow_from_directory(val_path, batch_size = 20, class_mode='categorical', target_size = (220, 220))\n",
    "\n"
   ]
  },
  {
   "cell_type": "code",
   "execution_count": 21,
   "metadata": {},
   "outputs": [
    {
     "name": "stdout",
     "output_type": "stream",
     "text": [
      "WARNING:tensorflow:`input_shape` is undefined or non-square, or `rows` is not in [96, 128, 160, 192, 224]. Weights for input shape (224, 224) will be loaded as the default.\n",
      "Model: \"sequential_2\"\n",
      "_________________________________________________________________\n",
      "Layer (type)                 Output Shape              Param #   \n",
      "=================================================================\n",
      "mobilenetv2_1.00_224 (Functi (None, None, None, 1280)  2257984   \n",
      "_________________________________________________________________\n",
      "global_average_pooling2d_2 ( (None, 1280)              0         \n",
      "_________________________________________________________________\n",
      "dense_6 (Dense)              (None, 512)               655872    \n",
      "_________________________________________________________________\n",
      "dropout_5 (Dropout)          (None, 512)               0         \n",
      "_________________________________________________________________\n",
      "dense_7 (Dense)              (None, 128)               65664     \n",
      "_________________________________________________________________\n",
      "dense_8 (Dense)              (None, 128)               16512     \n",
      "_________________________________________________________________\n",
      "flatten (Flatten)            (None, 128)               0         \n",
      "_________________________________________________________________\n",
      "dropout_6 (Dropout)          (None, 128)               0         \n",
      "_________________________________________________________________\n",
      "dense_9 (Dense)              (None, 24)                3096      \n",
      "=================================================================\n",
      "Total params: 2,999,128\n",
      "Trainable params: 741,144\n",
      "Non-trainable params: 2,257,984\n",
      "_________________________________________________________________\n"
     ]
    }
   ],
   "source": [
    "from tensorflow.keras.optimizers import RMSprop\n",
    "from tensorflow.keras.layers import Dense, GlobalAveragePooling2D, Dropout, Flatten\n",
    "from tensorflow.keras.models import Sequential\n",
    "from tensorflow.keras.optimizers import Adam\n",
    "from tensorflow.keras.callbacks import EarlyStopping\n",
    "callback = tf.keras.callbacks.EarlyStopping(monitor='loss', patience=3)\n",
    "base = tf.keras.applications.MobileNetV2(weights='imagenet',include_top=False)\n",
    "for layer in base.layers:\n",
    "    layer.trainable = False\n",
    "model = Sequential()\n",
    "model.add(base)\n",
    "model.add(GlobalAveragePooling2D())\n",
    "model.add(Dense(512,activation = 'relu'))\n",
    "model.add(Dropout(0.2))\n",
    "model.add(Dense(128,activation= 'relu'))\n",
    "model.add(Dense(128,activation= 'relu'))\n",
    "model.add(Flatten())\n",
    "model.add(Dropout(0.2))\n",
    "model.add(Dense(24,activation = 'softmax'))\n",
    "model.summary()\n"
   ]
  },
  {
   "cell_type": "code",
   "execution_count": 22,
   "metadata": {},
   "outputs": [
    {
     "name": "stdout",
     "output_type": "stream",
     "text": [
      "Epoch 1/20\n",
      "WARNING:tensorflow:AutoGraph could not transform <function Model.make_train_function.<locals>.train_function at 0x7fff48cd9e18> and will run it as-is.\n",
      "Please report this to the TensorFlow team. When filing the bug, set the verbosity to 10 (on Linux, `export AUTOGRAPH_VERBOSITY=10`) and attach the full output.\n",
      "Cause: attrib() got an unexpected keyword argument 'convert'\n",
      "To silence this warning, decorate the function with @tf.autograph.experimental.do_not_convert\n",
      "WARNING: AutoGraph could not transform <function Model.make_train_function.<locals>.train_function at 0x7fff48cd9e18> and will run it as-is.\n",
      "Please report this to the TensorFlow team. When filing the bug, set the verbosity to 10 (on Linux, `export AUTOGRAPH_VERBOSITY=10`) and attach the full output.\n",
      "Cause: attrib() got an unexpected keyword argument 'convert'\n",
      "To silence this warning, decorate the function with @tf.autograph.experimental.do_not_convert\n",
      "50/50 [==============================] - ETA: 0s - loss: 1.6847 - accuracy: 0.5520WARNING:tensorflow:AutoGraph could not transform <function Model.make_test_function.<locals>.test_function at 0x7fff602b01e0> and will run it as-is.\n",
      "Please report this to the TensorFlow team. When filing the bug, set the verbosity to 10 (on Linux, `export AUTOGRAPH_VERBOSITY=10`) and attach the full output.\n",
      "Cause: attrib() got an unexpected keyword argument 'convert'\n",
      "To silence this warning, decorate the function with @tf.autograph.experimental.do_not_convert\n",
      "WARNING: AutoGraph could not transform <function Model.make_test_function.<locals>.test_function at 0x7fff602b01e0> and will run it as-is.\n",
      "Please report this to the TensorFlow team. When filing the bug, set the verbosity to 10 (on Linux, `export AUTOGRAPH_VERBOSITY=10`) and attach the full output.\n",
      "Cause: attrib() got an unexpected keyword argument 'convert'\n",
      "To silence this warning, decorate the function with @tf.autograph.experimental.do_not_convert\n",
      "50/50 [==============================] - 44s 830ms/step - loss: 1.6847 - accuracy: 0.5520 - val_loss: 0.8665 - val_accuracy: 0.7833\n",
      "Epoch 2/20\n",
      "50/50 [==============================] - 43s 872ms/step - loss: 0.7435 - accuracy: 0.7930 - val_loss: 0.4643 - val_accuracy: 0.8417\n",
      "Epoch 3/20\n",
      "50/50 [==============================] - 42s 849ms/step - loss: 0.4746 - accuracy: 0.8610 - val_loss: 0.5987 - val_accuracy: 0.8583\n",
      "Epoch 4/20\n",
      "50/50 [==============================] - 43s 856ms/step - loss: 0.4636 - accuracy: 0.8680 - val_loss: 0.3350 - val_accuracy: 0.8750\n",
      "Epoch 5/20\n",
      "50/50 [==============================] - 60s 1s/step - loss: 0.3177 - accuracy: 0.9030 - val_loss: 0.3336 - val_accuracy: 0.9083\n",
      "Epoch 6/20\n",
      "50/50 [==============================] - 51s 1s/step - loss: 0.2868 - accuracy: 0.9090 - val_loss: 0.1748 - val_accuracy: 0.9417\n",
      "Epoch 7/20\n",
      "50/50 [==============================] - 40s 807ms/step - loss: 0.3160 - accuracy: 0.9090 - val_loss: 0.3968 - val_accuracy: 0.8667\n",
      "Epoch 8/20\n",
      "50/50 [==============================] - 53s 1s/step - loss: 0.2841 - accuracy: 0.9260 - val_loss: 0.1221 - val_accuracy: 0.9667\n",
      "Epoch 9/20\n",
      "50/50 [==============================] - 42s 847ms/step - loss: 0.2808 - accuracy: 0.9260 - val_loss: 0.1776 - val_accuracy: 0.9250\n",
      "Epoch 10/20\n",
      "50/50 [==============================] - 42s 850ms/step - loss: 0.2354 - accuracy: 0.9390 - val_loss: 0.1013 - val_accuracy: 0.9583\n",
      "Epoch 11/20\n",
      "50/50 [==============================] - 59s 1s/step - loss: 0.2319 - accuracy: 0.9390 - val_loss: 0.1338 - val_accuracy: 0.9500\n",
      "Epoch 12/20\n",
      "50/50 [==============================] - 55s 1s/step - loss: 0.2279 - accuracy: 0.9400 - val_loss: 0.1511 - val_accuracy: 0.9583\n",
      "Epoch 13/20\n",
      "50/50 [==============================] - 39s 791ms/step - loss: 0.2092 - accuracy: 0.9470 - val_loss: 0.2336 - val_accuracy: 0.9417\n",
      "Epoch 14/20\n",
      "50/50 [==============================] - 42s 844ms/step - loss: 0.1858 - accuracy: 0.9470 - val_loss: 0.1003 - val_accuracy: 0.9667\n",
      "Epoch 15/20\n",
      "50/50 [==============================] - 42s 847ms/step - loss: 0.2081 - accuracy: 0.9450 - val_loss: 0.2454 - val_accuracy: 0.9167\n",
      "Epoch 16/20\n",
      "50/50 [==============================] - 42s 835ms/step - loss: 0.1745 - accuracy: 0.9490 - val_loss: 0.2044 - val_accuracy: 0.9417\n",
      "Epoch 17/20\n",
      "50/50 [==============================] - 62s 1s/step - loss: 0.1794 - accuracy: 0.9510 - val_loss: 0.1860 - val_accuracy: 0.9583\n",
      "Epoch 18/20\n",
      "50/50 [==============================] - 51s 1s/step - loss: 0.1832 - accuracy: 0.9560 - val_loss: 0.1763 - val_accuracy: 0.9500\n",
      "Epoch 19/20\n",
      "50/50 [==============================] - 40s 797ms/step - loss: 0.1866 - accuracy: 0.9450 - val_loss: 0.1868 - val_accuracy: 0.9333\n"
     ]
    }
   ],
   "source": [
    "model.compile(optimizer=\"rmsprop\", loss='categorical_crossentropy', metrics=[\"accuracy\"])\n",
    "history = model.fit(train_gen, validation_data=val_gen, steps_per_epoch = 50, epochs = 20, callbacks=[callback])"
   ]
  },
  {
   "cell_type": "code",
   "execution_count": 23,
   "metadata": {},
   "outputs": [
    {
     "data": {
      "image/png": "[encoded data removed]",
      "text/plain": [
       "<Figure size 1080x720 with 2 Axes>"
      ]
     },
     "metadata": {
      "needs_background": "light"
     },
     "output_type": "display_data"
    }
   ],
   "source": [
    "\n",
    "import matplotlib.pyplot as plt\n",
    "\n",
    "tra_acc = history.history['accuracy']\n",
    "val_acc = history.history['val_accuracy']\n",
    "plt.figure(figsize=(15,10))\n",
    "plt.subplot(2,2,1)\n",
    "plt.plot(tra_acc, label = \"Training Accuracy\")\n",
    "plt.plot(val_acc, label = \"Validation Accuracy\")\n",
    "plt.legend()\n",
    "plt.title(\"Training vs Validation Acc\")\n",
    "\n",
    "tra_loss = history.history['loss']\n",
    "val_loss = history.history['val_loss']\n",
    "plt.subplot(2,2,2)\n",
    "plt.plot(tra_loss, label = \"Training Loss\")\n",
    "plt.plot(val_loss, label = \"Validation Loss\")\n",
    "plt.legend()\n",
    "plt.title(\"Training Loss vs Validation Loss\")\n",
    "plt.show()"
   ]
  },
  {
   "cell_type": "code",
   "execution_count": 24,
   "metadata": {},
   "outputs": [
    {
     "name": "stdout",
     "output_type": "stream",
     "text": [
      "WARNING:tensorflow:AutoGraph could not transform <function Model.make_predict_function.<locals>.predict_function at 0x7fff6115ab70> and will run it as-is.\n",
      "Please report this to the TensorFlow team. When filing the bug, set the verbosity to 10 (on Linux, `export AUTOGRAPH_VERBOSITY=10`) and attach the full output.\n",
      "Cause: attrib() got an unexpected keyword argument 'convert'\n",
      "To silence this warning, decorate the function with @tf.autograph.experimental.do_not_convert\n",
      "WARNING: AutoGraph could not transform <function Model.make_predict_function.<locals>.predict_function at 0x7fff6115ab70> and will run it as-is.\n",
      "Please report this to the TensorFlow team. When filing the bug, set the verbosity to 10 (on Linux, `export AUTOGRAPH_VERBOSITY=10`) and attach the full output.\n",
      "Cause: attrib() got an unexpected keyword argument 'convert'\n",
      "To silence this warning, decorate the function with @tf.autograph.experimental.do_not_convert\n"
     ]
    }
   ],
   "source": [
    "pred = model.predict(test_gen)"
   ]
  },
  {
   "cell_type": "code",
   "execution_count": 25,
   "metadata": {},
   "outputs": [
    {
     "name": "stdout",
     "output_type": "stream",
     "text": [
      "6/6 [==============================] - 4s 610ms/step - loss: 0.3610 - accuracy: 0.9433\n"
     ]
    }
   ],
   "source": [
    "ans = model.evaluate(test_gen)"
   ]
  },
  {
   "cell_type": "code",
   "execution_count": null,
   "metadata": {},
   "outputs": [],
   "source": []
  }
 ],
 "metadata": {
  "kernelspec": {
   "display_name": "Python 3",
   "language": "python",
   "name": "python3"
  },
  "language_info": {
   "codemirror_mode": {
    "name": "ipython",
    "version": 3
   },
   "file_extension": ".py",
   "mimetype": "text/x-python",
   "name": "python",
   "nbconvert_exporter": "python",
   "pygments_lexer": "ipython3",
   "version": "3.6.9"
  }
 },
 "nbformat": 4,
 "nbformat_minor": 4
}
